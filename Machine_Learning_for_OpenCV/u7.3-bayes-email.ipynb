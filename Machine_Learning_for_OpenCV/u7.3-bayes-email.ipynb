{
 "cells": [
  {
   "cell_type": "markdown",
   "metadata": {},
   "source": [
    "# 使用朴素贝叶斯分类器对邮件分类"
   ]
  },
  {
   "cell_type": "markdown",
   "metadata": {},
   "source": [
    "使用数据集： Enrom-Spam"
   ]
  },
  {
   "cell_type": "code",
   "execution_count": 1,
   "metadata": {},
   "outputs": [],
   "source": [
    "datadir = '/home/tarena/class/book_and_code/Machine_Learning_for_OpenCV/opencv-machine-learning/notebooks/data/chapter7'"
   ]
  },
  {
   "cell_type": "code",
   "execution_count": 2,
   "metadata": {},
   "outputs": [],
   "source": [
    "HAM = 0\n",
    "SPAM = 1\n",
    "\n",
    "sources = [\n",
    "    ('beck-s.tar.gz', HAM),\n",
    "    ('farmer-d.tar.gz', HAM),\n",
    "    ('kaminski-v.tar.gz', HAM),\n",
    "    ('kitchen-l.tar.gz', HAM),\n",
    "    ('lokay-m.tar.gz', HAM),\n",
    "    ('williams-w3.tar.gz', HAM),\n",
    "    ('BG.tar.gz', SPAM),\n",
    "    ('GP.tar.gz', SPAM),\n",
    "    ('SH.tar.gz', SPAM)\n",
    "]"
   ]
  },
  {
   "cell_type": "code",
   "execution_count": null,
   "metadata": {},
   "outputs": [],
   "source": [
    "# 解压、提取文件\n",
    "# def extract_tar(datafile, extractdir):\n",
    "#     try:\n",
    "#         import tarfile\n",
    "#     except ImportError:\n",
    "#         raise ImportError(\"do not have tarfile installed.\")\n",
    "#     tar = tarfile.open(datafile)\n",
    "#\n",
    "#     tar.extractall(path=extractdir)\n",
    "#     tar.close()\n",
    "#     print(\"%s successfully extracted to %s\" % (datafile, extractdir))\n",
    "#\n",
    "#\n",
    "# for source, _ in sources:\n",
    "#     # print(source)\n",
    "#     datafile = '%s/%s' % (datadir, source)\n",
    "#     # print(datafile)\n",
    "#     extract_tar(datafile, datadir)"
   ]
  },
  {
   "cell_type": "code",
   "execution_count": 3,
   "metadata": {},
   "outputs": [],
   "source": [
    "# 定义函数：用于读取文件内容\n",
    "import os\n",
    "def read_single_file(filename):\n",
    "    \"\"\"\n",
    "    从filename文件中提取内容\n",
    "    \"\"\"\n",
    "    past_header, lines = False, []\n",
    "\n",
    "    if os.path.isfile(filename):\n",
    "        f = open(filename, encoding=\"latin-1\")\n",
    "        for line in f:\n",
    "            if past_header:\n",
    "                lines.append(line)\n",
    "            elif line == '\\n':\n",
    "                past_header = True\n",
    "    f.close()\n",
    "\n",
    "    content = '\\n'.join(lines)\n",
    "    return filename, content\n",
    "\n",
    "def read_files(path):\n",
    "    \"\"\"\n",
    "    从path目录中的所有文件提取内容\n",
    "    \"\"\"\n",
    "    for root, dirnames, filenames in os.walk(path):\n",
    "        for filename in filenames:\n",
    "            filepath = os.path.join(root, filename)\n",
    "            yield read_single_file(filepath)"
   ]
  },
  {
   "cell_type": "markdown",
   "metadata": {},
   "source": [
    "### 使用pandas构建数据矩阵"
   ]
  },
  {
   "cell_type": "code",
   "execution_count": 7,
   "metadata": {},
   "outputs": [
    {
     "data": {
      "text/html": [
       "<div>\n",
       "<style scoped>\n",
       "    .dataframe tbody tr th:only-of-type {\n",
       "        vertical-align: middle;\n",
       "    }\n",
       "\n",
       "    .dataframe tbody tr th {\n",
       "        vertical-align: top;\n",
       "    }\n",
       "\n",
       "    .dataframe thead th {\n",
       "        text-align: right;\n",
       "    }\n",
       "</style>\n",
       "<table border=\"1\" class=\"dataframe\">\n",
       "  <thead>\n",
       "    <tr style=\"text-align: right;\">\n",
       "      <th></th>\n",
       "      <th>model</th>\n",
       "      <th>class</th>\n",
       "    </tr>\n",
       "  </thead>\n",
       "  <tbody>\n",
       "    <tr>\n",
       "      <th>0</th>\n",
       "      <td>Normal Bayes</td>\n",
       "      <td>cv2.ml.NormalBayesClassifier_create()</td>\n",
       "    </tr>\n",
       "    <tr>\n",
       "      <th>1</th>\n",
       "      <td>Multinamial Bayes</td>\n",
       "      <td>sklearn.naive_bayes.MultinomialNB()</td>\n",
       "    </tr>\n",
       "    <tr>\n",
       "      <th>2</th>\n",
       "      <td>Bernoulli Bayes</td>\n",
       "      <td>sklearn.naive_bayes.BernoulliNB()</td>\n",
       "    </tr>\n",
       "  </tbody>\n",
       "</table>\n",
       "</div>"
      ],
      "text/plain": [
       "               model                                  class\n",
       "0       Normal Bayes  cv2.ml.NormalBayesClassifier_create()\n",
       "1  Multinamial Bayes    sklearn.naive_bayes.MultinomialNB()\n",
       "2    Bernoulli Bayes      sklearn.naive_bayes.BernoulliNB()"
      ]
     },
     "execution_count": 7,
     "metadata": {},
     "output_type": "execute_result"
    }
   ],
   "source": [
    "import pandas as pd\n",
    "\n",
    "# pandas 演示\n",
    "pd.DataFrame({\n",
    "    'model': [\n",
    "        'Normal Bayes',\n",
    "        'Multinamial Bayes',\n",
    "        'Bernoulli Bayes'\n",
    "    ],\n",
    "    'class': [\n",
    "        'cv2.ml.NormalBayesClassifier_create()',\n",
    "        'sklearn.naive_bayes.MultinomialNB()',\n",
    "        'sklearn.naive_bayes.BernoulliNB()'\n",
    "    ]\n",
    "})"
   ]
  },
  {
   "cell_type": "code",
   "execution_count": 9,
   "metadata": {},
   "outputs": [],
   "source": [
    "def build_data_frame(extractdir, classification):\n",
    "    rows = []\n",
    "    index = []\n",
    "    for file_name, text in read_files(extractdir):\n",
    "        rows.append(({'text': text, 'class': classification}))\n",
    "        index.append(file_name)\n",
    "\n",
    "    data_frame = pd.DataFrame(rows, index=index)\n",
    "    return data_frame\n",
    "\n",
    "\n",
    "data = pd.DataFrame({'text': [], 'class': []})\n",
    "for source, classification in sources:\n",
    "    extractdir = '%s/%s' % (datadir, source[:-7])\n",
    "    data = data.append(build_data_frame(extractdir, classification))"
   ]
  },
  {
   "cell_type": "markdown",
   "metadata": {},
   "source": [
    "## 数据预处理\n",
    "- CountVectorizer 统计各个单词出现的次数"
   ]
  },
  {
   "cell_type": "code",
   "execution_count": 10,
   "metadata": {},
   "outputs": [
    {
     "name": "stdout",
     "output_type": "stream",
     "text": [
      "(52076, 643270)\n"
     ]
    }
   ],
   "source": [
    "from sklearn import feature_extraction\n",
    "counts = feature_extraction.text.CountVectorizer()  # 统计各单词出现次数\n",
    "x = counts.fit_transform(data['text'].values)\n",
    "print(x.shape)  # (52076, 643270)\n",
    "y = data['class'].values"
   ]
  },
  {
   "cell_type": "code",
   "execution_count": 11,
   "metadata": {},
   "outputs": [
    {
     "data": {
      "text/plain": [
       "<52076x643270 sparse matrix of type '<class 'numpy.int64'>'\n",
       "\twith 8607632 stored elements in Compressed Sparse Row format>"
      ]
     },
     "execution_count": 11,
     "metadata": {},
     "output_type": "execute_result"
    }
   ],
   "source": [
    "x"
   ]
  },
  {
   "cell_type": "markdown",
   "metadata": {},
   "source": [
    "## 训练贝叶斯分类器\n",
    "scikit-learn将数据保存在一个系数矩阵（x）中\n",
    "- opencv无法处理稀疏矩阵\n",
    "\n",
    "使用完整的数据集进行训练\n",
    "- 使用sklearn\n",
    "- naive_bayes.MultinomialNB 最适合处理分类数据（比如单词技术）的朴素贝叶斯分类器版本"
   ]
  },
  {
   "cell_type": "code",
   "execution_count": 12,
   "metadata": {},
   "outputs": [
    {
     "name": "stdout",
     "output_type": "stream",
     "text": [
      "0.9511281805088814\n",
      "0.9452764976958525\n"
     ]
    }
   ],
   "source": [
    "from sklearn import model_selection as ms\n",
    "x_train, x_test, y_train, y_test = ms.train_test_split(\n",
    "    x, y, test_size=0.2, random_state=42\n",
    ")\n",
    "from sklearn import naive_bayes\n",
    "model_naive = naive_bayes.MultinomialNB()\n",
    "model_naive.fit(x_train, y_train)\n",
    "print(model_naive.score(x_train, y_train))  # 0.9511281805088814\n",
    "print(model_naive.score(x_test, y_test))  # 0.9452764976958525"
   ]
  },
  {
   "cell_type": "markdown",
   "metadata": {},
   "source": [
    "# 使用n-gram提升结果——重复数据分割和训练器分类过程\n",
    "- 缺点：对于更长的文本无法有效的评估权重"
   ]
  },
  {
   "cell_type": "code",
   "execution_count": 13,
   "metadata": {},
   "outputs": [
    {
     "name": "stdout",
     "output_type": "stream",
     "text": [
      "0.9835333653384541\n",
      "0.9713901689708141\n"
     ]
    }
   ],
   "source": [
    "counts = feature_extraction.text.CountVectorizer(ngram_range=(1, 2))  # 统计n个单词的长短句\n",
    "\n",
    "x = counts.fit_transform(data['text'].values)\n",
    "x_train, x_test, y_train, y_test = ms.train_test_split(\n",
    "    x, y, test_size=0.2, random_state=42\n",
    ")\n",
    "model_naive = naive_bayes.MultinomialNB()\n",
    "model_naive.fit(x_train, y_train)\n",
    "print(model_naive.score(x_train, y_train))  # 0.9835333653384541\n",
    "print(model_naive.score(x_test, y_test))  # 0.9713901689708141"
   ]
  },
  {
   "cell_type": "code",
   "execution_count": 14,
   "metadata": {},
   "outputs": [
    {
     "name": "stdout",
     "output_type": "stream",
     "text": [
      "[[3824    6]\n",
      " [ 292 6294]]\n"
     ]
    }
   ],
   "source": [
    "from sklearn import metrics\n",
    "print(metrics.confusion_matrix(y_test, model_naive.predict(x_test)))"
   ]
  },
  {
   "cell_type": "markdown",
   "metadata": {},
   "source": [
    "# 使用TD-IDF提升结果\n",
    "- 通过计算单词在整个数据集中出现的频率来对单词技术分配权重"
   ]
  },
  {
   "cell_type": "code",
   "execution_count": 15,
   "metadata": {},
   "outputs": [
    {
     "data": {
      "text/plain": [
       "MultinomialNB(alpha=1.0, class_prior=None, fit_prior=True)"
      ]
     },
     "execution_count": 15,
     "metadata": {},
     "output_type": "execute_result"
    }
   ],
   "source": [
    "tdidf = feature_extraction.text.TfidfTransformer()\n",
    "\n",
    "x_new = tdidf.fit_transform(x)\n",
    "x_train, x_test, y_train, y_test = ms.train_test_split(\n",
    "    x_new, y, test_size=0.2, random_state=42\n",
    ")\n",
    "\n",
    "model_naive = naive_bayes.MultinomialNB()\n",
    "model_naive.fit(x_train, y_train)"
   ]
  },
  {
   "cell_type": "code",
   "execution_count": 16,
   "metadata": {},
   "outputs": [
    {
     "name": "stdout",
     "output_type": "stream",
     "text": [
      "0.9958233317330772\n",
      "0.9906874039938556\n"
     ]
    }
   ],
   "source": [
    "print(model_naive.score(x_train, y_train))  # 0.9958233317330772\n",
    "print(model_naive.score(x_test, y_test))  # 0.9906874039938556"
   ]
  },
  {
   "cell_type": "code",
   "execution_count": 17,
   "metadata": {},
   "outputs": [
    {
     "name": "stdout",
     "output_type": "stream",
     "text": [
      "[[3738   92]\n",
      " [   5 6581]]\n"
     ]
    }
   ],
   "source": [
    "from sklearn import metrics\n",
    "print(metrics.confusion_matrix(y_test, model_naive.predict(x_test)))\n",
    "# [[3738   92]    3728个类0，分类正确,； 92个类0,错误分类为类1\n",
    "#  [   5 6581]]   5个类1，错误分类为类0； 6581个类1，分类正确"
   ]
  },
  {
   "cell_type": "code",
   "execution_count": null,
   "metadata": {},
   "outputs": [],
   "source": []
  }
 ],
 "metadata": {
  "kernelspec": {
   "display_name": "Python 3",
   "language": "python",
   "name": "python3"
  },
  "language_info": {
   "codemirror_mode": {
    "name": "ipython",
    "version": 3
   },
   "file_extension": ".py",
   "mimetype": "text/x-python",
   "name": "python",
   "nbconvert_exporter": "python",
   "pygments_lexer": "ipython3",
   "version": "3.6.7"
  }
 },
 "nbformat": 4,
 "nbformat_minor": 2
}
