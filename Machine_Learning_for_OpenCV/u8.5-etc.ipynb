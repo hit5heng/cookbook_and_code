{
 "cells": [
  {
   "cell_type": "code",
   "execution_count": 1,
   "metadata": {},
   "outputs": [],
   "source": [
    "from sklearn.datasets import load_digits"
   ]
  },
  {
   "cell_type": "code",
   "execution_count": 4,
   "metadata": {},
   "outputs": [
    {
     "data": {
      "text/plain": [
       "(1797, 64)"
      ]
     },
     "execution_count": 4,
     "metadata": {},
     "output_type": "execute_result"
    }
   ],
   "source": [
    "digits = load_digits()\n",
    "digits.data.shape"
   ]
  },
  {
   "cell_type": "code",
   "execution_count": 5,
   "metadata": {},
   "outputs": [],
   "source": [
    "import cv2\n",
    "# 指定参数：迭代10次，误差小于1.0\n",
    "criteria = (cv2.TERM_CRITERIA_EPS + cv2.TERM_CRITERIA_MAX_ITER, 10, 1.0)\n",
    "flags = cv2.KMEANS_RANDOM_CENTERS"
   ]
  },
  {
   "cell_type": "code",
   "execution_count": 22,
   "metadata": {},
   "outputs": [],
   "source": [
    "import numpy as np\n",
    "digits.data = digits.data.astype(np.float32)\n",
    "compactness, clusters, centers = cv2.kmeans(digits.data,\n",
    "                                         10,\n",
    "                                         None,\n",
    "                                         criteria,\n",
    "                                         10,\n",
    "                                         flags)"
   ]
  },
  {
   "cell_type": "code",
   "execution_count": 23,
   "metadata": {},
   "outputs": [],
   "source": [
    "import matplotlib.pyplot as plt\n",
    "%matplotlib inline\n",
    "plt.style.use(\"ggplot\")"
   ]
  },
  {
   "cell_type": "code",
   "execution_count": 24,
   "metadata": {},
   "outputs": [
    {
     "data": {
      "image/png": "[encoded data removed]",
      "text/plain": [
       "<Figure size 576x216 with 10 Axes>"
      ]
     },
     "metadata": {},
     "output_type": "display_data"
    }
   ],
   "source": [
    "fig, ax = plt.subplots(2, 5, figsize=(8,3))\n",
    "centers = centers.reshape(10,8,8)\n",
    "\n",
    "for axi, center in zip(ax.flat, centers):  # flat返回的是一个迭代器，可以用for访问数组每一个元素\n",
    "    axi.set(xticks=[], yticks=[])\n",
    "    axi.imshow(center, interpolation='nearest', cmap=plt.cm.binary)"
   ]
  },
  {
   "cell_type": "code",
   "execution_count": 25,
   "metadata": {},
   "outputs": [],
   "source": [
    "from scipy.stats import mode\n",
    "labels = np.zeros_like(clusters.ravel())\n",
    "for i in range(10):\n",
    "    mask = (clusters.ravel()==i)\n",
    "    labels[mask] = mode(digits.target[mask])[0]"
   ]
  },
  {
   "cell_type": "code",
   "execution_count": 26,
   "metadata": {},
   "outputs": [
    {
     "data": {
      "text/plain": [
       "0.7762938230383973"
      ]
     },
     "execution_count": 26,
     "metadata": {},
     "output_type": "execute_result"
    }
   ],
   "source": [
    "from sklearn.metrics import accuracy_score\n",
    "accuracy_score(digits.target, labels)"
   ]
  },
  {
   "cell_type": "code",
   "execution_count": 27,
   "metadata": {},
   "outputs": [
    {
     "data": {
      "text/plain": [
       "array([[176,   0,   0,   0,   2,   0,   0,   0,   0,   0],\n",
       "       [  0, 154,  24,   1,   0,   1,   2,   0,   0,   0],\n",
       "       [  1,  10, 148,  14,   0,   0,   0,   3,   0,   1],\n",
       "       [  0,   4,   1, 160,   0,   6,   0,   3,   0,   9],\n",
       "       [  0,   2,   0,   0, 165,   1,   0,  13,   0,   0],\n",
       "       [  0,   4,   0,   0,   1, 118,   2,   0,   0,  57],\n",
       "       [  1,   3,   0,   0,   1,   0, 176,   0,   0,   0],\n",
       "       [  0,  19,   0,   0,   0,   0,   0, 160,   0,   0],\n",
       "       [  0,  97,   3,   2,   0,  16,   2,   3,   0,  51],\n",
       "       [  0,  25,   0,   7,   0,   6,   0,   4,   0, 138]])"
      ]
     },
     "execution_count": 27,
     "metadata": {},
     "output_type": "execute_result"
    }
   ],
   "source": [
    "from sklearn.metrics import confusion_matrix\n",
    "confusion_matrix(digits.target, labels)"
   ]
  },
  {
   "cell_type": "code",
   "execution_count": null,
   "metadata": {},
   "outputs": [],
   "source": []
  }
 ],
 "metadata": {
  "kernelspec": {
   "display_name": "Python 3",
   "language": "python",
   "name": "python3"
  },
  "language_info": {
   "codemirror_mode": {
    "name": "ipython",
    "version": 3
   },
   "file_extension": ".py",
   "mimetype": "text/x-python",
   "name": "python",
   "nbconvert_exporter": "python",
   "pygments_lexer": "ipython3",
   "version": "3.6.7"
  }
 },
 "nbformat": 4,
 "nbformat_minor": 2
}
