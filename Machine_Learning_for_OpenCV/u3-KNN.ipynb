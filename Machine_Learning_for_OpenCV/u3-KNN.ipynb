{
 "cells": [
  {
   "cell_type": "code",
   "execution_count": 25,
   "metadata": {},
   "outputs": [],
   "source": [
    "import numpy as np\n",
    "from sklearn.neighbors import KNeighborsClassifier\n",
    "import matplotlib.pyplot as plt\n",
    "\n",
    "plt.style.use('ggplot')\n",
    "%matplotlib inline"
   ]
  },
  {
   "cell_type": "code",
   "execution_count": null,
   "metadata": {},
   "outputs": [],
   "source": [
    "# single_data_point = np.random.randint(0,100,2)\n",
    "# single_label = np.random.randint(0,2)\n",
    "# print(single_data_point, '\\n--------\\n', single_label)"
   ]
  },
  {
   "cell_type": "markdown",
   "metadata": {},
   "source": [
    "# generate_data\n",
    "随机生成0-100之间的坐标点，默认维度2，和对应标签"
   ]
  },
  {
   "cell_type": "code",
   "execution_count": 26,
   "metadata": {},
   "outputs": [],
   "source": [
    "def generate_data(num_samples, num_features=2):\n",
    "    \"\"\"\n",
    "    generate data between 0 and 100,\n",
    "    and it's label.\n",
    "    :param num_samples:\n",
    "    :param num_features:\n",
    "    :return:\n",
    "    \"\"\"\n",
    "    data_size = (num_samples, num_features)\n",
    "    data = np.random.randint(0, 100, size=data_size)\n",
    "    label_size = (num_samples, 1)\n",
    "    labels = np.random.randint(0, 2, size=label_size)\n",
    "    return data.astype(np.float32), labels"
   ]
  },
  {
   "cell_type": "code",
   "execution_count": 27,
   "metadata": {},
   "outputs": [],
   "source": [
    "# test\n",
    "# 生成n个点（坐标），及对应标签\n",
    "train_data, labels = generate_data(11)"
   ]
  },
  {
   "cell_type": "code",
   "execution_count": 28,
   "metadata": {
    "scrolled": true
   },
   "outputs": [
    {
     "name": "stdout",
     "output_type": "stream",
     "text": [
      "[[80. 53.]\n",
      " [85. 15.]\n",
      " [10.  1.]\n",
      " [56.  9.]\n",
      " [ 1. 50.]\n",
      " [49. 19.]\n",
      " [35. 12.]\n",
      " [99. 61.]\n",
      " [74. 49.]\n",
      " [52. 86.]\n",
      " [68. 49.]] \n",
      "--------\n",
      " [[0]\n",
      " [1]\n",
      " [0]\n",
      " [1]\n",
      " [0]\n",
      " [0]\n",
      " [0]\n",
      " [1]\n",
      " [1]\n",
      " [0]\n",
      " [1]]\n"
     ]
    },
    {
     "data": {
      "image/png": "[encoded data removed]",
      "text/plain": [
       "<Figure size 432x288 with 1 Axes>"
      ]
     },
     "metadata": {
      "needs_background": "light"
     },
     "output_type": "display_data"
    }
   ],
   "source": [
    "print(train_data, '\\n--------\\n', labels)\n",
    "plt.plot(train_data, 'sb')\n",
    "plt.xlabel('x coordinate')\n",
    "plt.ylabel('y coordinate')\n",
    "plt.show()"
   ]
  },
  {
   "cell_type": "markdown",
   "metadata": {},
   "source": [
    "# plot_data\n",
    "使用matplotlib显示图形：\n"
   ]
  },
  {
   "cell_type": "code",
   "execution_count": 29,
   "metadata": {},
   "outputs": [],
   "source": [
    "def plot_data(all_blue, all_red):\n",
    "    \"\"\"\n",
    "    the data with label 0, scatter blue,  square\n",
    "    the data with label 1, scatter red, triangle\n",
    "    :param all_blue:\n",
    "    :param all_red:\n",
    "    :return:\n",
    "    \"\"\"\n",
    "    plt.scatter(all_blue[:, 0], all_blue[:, 1], c='b', marker='s', s=180)\n",
    "    plt.scatter(all_red[:, 0], all_red[:, 1], c='r', marker='^', s=180)\n",
    "    plt.xlabel('x coordinate (feature 1)')\n",
    "    plt.ylabel('y coordinate (feature 2)')\n",
    "    plt.title('k-nn samples')"
   ]
  },
  {
   "cell_type": "markdown",
   "metadata": {},
   "source": [
    "## 将生成的点按标签（0,1）分为蓝点、红点\n",
    "- label==0，蓝色点\n",
    "- label==1，红色点"
   ]
  },
  {
   "cell_type": "code",
   "execution_count": 30,
   "metadata": {},
   "outputs": [],
   "source": [
    "# labels.ravel() 将多维数组降位一维 [0 1 0 1 0 0 0 1 1 0 1]\n",
    "blue = train_data[labels.ravel() == 0]\n",
    "red =train_data[labels.ravel() == 1]"
   ]
  },
  {
   "cell_type": "markdown",
   "metadata": {},
   "source": [
    "# sklearn——knn分类器"
   ]
  },
  {
   "cell_type": "code",
   "execution_count": 31,
   "metadata": {},
   "outputs": [
    {
     "name": "stderr",
     "output_type": "stream",
     "text": [
      "/home/tarena/.local/lib/python3.6/site-packages/ipykernel_launcher.py:3: DataConversionWarning: A column-vector y was passed when a 1d array was expected. Please change the shape of y to (n_samples, ), for example using ravel().\n",
      "  This is separate from the ipykernel package so we can avoid doing imports until\n"
     ]
    },
    {
     "data": {
      "text/plain": [
       "KNeighborsClassifier(algorithm='auto', leaf_size=30, metric='minkowski',\n",
       "           metric_params=None, n_jobs=None, n_neighbors=6, p=2,\n",
       "           weights='uniform')"
      ]
     },
     "execution_count": 31,
     "metadata": {},
     "output_type": "execute_result"
    }
   ],
   "source": [
    "#  KNN分类器\n",
    "knn = KNeighborsClassifier(n_neighbors=6)\n",
    "knn.fit(train_data, labels)"
   ]
  },
  {
   "cell_type": "code",
   "execution_count": 32,
   "metadata": {},
   "outputs": [
    {
     "name": "stdout",
     "output_type": "stream",
     "text": [
      "[[56. 76.]]\n"
     ]
    }
   ],
   "source": [
    "#生成新点\n",
    "newcomer, _ = generate_data(1)\n",
    "print(newcomer)"
   ]
  },
  {
   "cell_type": "code",
   "execution_count": 33,
   "metadata": {},
   "outputs": [
    {
     "data": {
      "image/png": "[encoded data removed]",
      "text/plain": [
       "<Figure size 432x288 with 1 Axes>"
      ]
     },
     "metadata": {
      "needs_background": "light"
     },
     "output_type": "display_data"
    }
   ],
   "source": [
    "# 显示图像\n",
    "plot_data(blue, red)\n",
    "plt.plot(newcomer[0,0], newcomer[0,1], 'go', markersize=14)\n",
    "plt.show()"
   ]
  },
  {
   "cell_type": "code",
   "execution_count": 34,
   "metadata": {},
   "outputs": [
    {
     "name": "stdout",
     "output_type": "stream",
     "text": [
      "Predicted label:\t [0]\n"
     ]
    }
   ],
   "source": [
    "# 预测分类\n",
    "rst = knn.predict(newcomer)\n",
    "print(\"Predicted label:\\t\", rst)"
   ]
  },
  {
   "cell_type": "markdown",
   "metadata": {},
   "source": [
    "# opencv——knn分类器"
   ]
  },
  {
   "cell_type": "code",
   "execution_count": 35,
   "metadata": {},
   "outputs": [
    {
     "name": "stdout",
     "output_type": "stream",
     "text": [
      "[[53. 22.]]\n"
     ]
    }
   ],
   "source": [
    "import cv2\n",
    "#  KNN分类器\n",
    "knn_cv2 = cv2.ml.KNearest_create()\n",
    "knn_cv2.train(train_data, cv2.ml.ROW_SAMPLE, labels)\n",
    "#生成新点\n",
    "newcomer, _ = generate_data(1)\n",
    "print(newcomer)"
   ]
  },
  {
   "cell_type": "code",
   "execution_count": 36,
   "metadata": {
    "scrolled": true
   },
   "outputs": [
    {
     "data": {
      "image/png": "[encoded data removed]",
      "text/plain": [
       "<Figure size 432x288 with 1 Axes>"
      ]
     },
     "metadata": {
      "needs_background": "light"
     },
     "output_type": "display_data"
    }
   ],
   "source": [
    "# 显示图像\n",
    "plot_data(blue, red)\n",
    "plt.plot(newcomer[0,0], newcomer[0,1], 'go', markersize=14)\n",
    "plt.show()"
   ]
  },
  {
   "cell_type": "code",
   "execution_count": 45,
   "metadata": {},
   "outputs": [
    {
     "name": "stdout",
     "output_type": "stream",
     "text": [
      "Predicted label:\t [[1.]]\n",
      "Neighbors label:\t [[0. 1. 0. 1. 1.]]\n",
      "Distance to neighbors:\t [[  25.  178.  424.  954. 1073.]]\n"
     ]
    }
   ],
   "source": [
    "ret, result, neighbors, dist = knn_cv2.findNearest(newcomer, 5)  # 注意：选择适当的数；不要选择偶数，以免平局。\n",
    "print(\"Predicted label:\\t\", result)\n",
    "print(\"Neighbors label:\\t\", neighbors)\n",
    "print(\"Distance to neighbors:\\t\", dist)"
   ]
  },
  {
   "cell_type": "code",
   "execution_count": null,
   "metadata": {},
   "outputs": [],
   "source": []
  }
 ],
 "metadata": {
  "kernelspec": {
   "display_name": "Python 3",
   "language": "python",
   "name": "python3"
  },
  "language_info": {
   "codemirror_mode": {
    "name": "ipython",
    "version": 3
   },
   "file_extension": ".py",
   "mimetype": "text/x-python",
   "name": "python",
   "nbconvert_exporter": "python",
   "pygments_lexer": "ipython3",
   "version": "3.6.7"
  }
 },
 "nbformat": 4,
 "nbformat_minor": 2
}
