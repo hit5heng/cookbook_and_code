{
 "cells": [
  {
   "cell_type": "markdown",
   "metadata": {},
   "source": [
    "# 逻辑回归（分类）\n",
    "- linear_model.LogisticRegression()\n"
   ]
  },
  {
   "cell_type": "code",
   "execution_count": 1,
   "metadata": {},
   "outputs": [],
   "source": [
    "import numpy as np\n",
    "from sklearn import datasets, metrics, model_selection, linear_model\n",
    "\n",
    "import matplotlib.pyplot as plt\n",
    "%matplotlib inline"
   ]
  },
  {
   "cell_type": "markdown",
   "metadata": {},
   "source": [
    "## 数据集：鸢尾花分类"
   ]
  },
  {
   "cell_type": "code",
   "execution_count": 2,
   "metadata": {},
   "outputs": [],
   "source": [
    "iris = datasets.load_iris()\n",
    "# print(dir(iris))  # ['DESCR', 'data', 'feature_names', 'filename', 'target', 'target_names']\n",
    "# print('data shape', iris.data.shape)  # data shape (150, 4)\n",
    "# print('target shape', iris.target.shape)  # target shape (150,)\n",
    "# print('feature names:', iris.feature_names)  # feature names: ['sepal length (cm)', 'sepal width (cm)', 'petal length (cm)', 'petal width (cm)']\n",
    "# print('kinds:', np.unique(iris.target))  # 品种数量kinds: [0 1 2]"
   ]
  },
  {
   "cell_type": "code",
   "execution_count": 31,
   "metadata": {},
   "outputs": [],
   "source": [
    "x_train, x_test, y_train, y_test = model_selection.train_test_split(\n",
    "    iris.data, iris.target, test_size=0.1, random_state=42\n",
    ")"
   ]
  },
  {
   "cell_type": "code",
   "execution_count": 32,
   "metadata": {},
   "outputs": [
    {
     "name": "stdout",
     "output_type": "stream",
     "text": [
      "(135, 4) (135,) (15, 4) (15,)\n"
     ]
    }
   ],
   "source": [
    "print(x_train.shape, y_train.shape, x_test.shape, y_test.shape)"
   ]
  },
  {
   "cell_type": "markdown",
   "metadata": {},
   "source": [
    "## sklearn——LogisticRegression"
   ]
  },
  {
   "cell_type": "code",
   "execution_count": 33,
   "metadata": {
    "scrolled": true
   },
   "outputs": [
    {
     "name": "stderr",
     "output_type": "stream",
     "text": [
      "/home/tarena/.local/lib/python3.6/site-packages/sklearn/linear_model/logistic.py:433: FutureWarning: Default solver will be changed to 'lbfgs' in 0.22. Specify a solver to silence this warning.\n",
      "  FutureWarning)\n",
      "/home/tarena/.local/lib/python3.6/site-packages/sklearn/linear_model/logistic.py:460: FutureWarning: Default multi_class will be changed to 'auto' in 0.22. Specify the multi_class option to silence this warning.\n",
      "  \"this warning.\", FutureWarning)\n"
     ]
    }
   ],
   "source": [
    "logicreg = linear_model.LogisticRegression()  # 实例化分类算法对象\n",
    "logicreg.fit(x_train, y_train)\n",
    "y_pred = logicreg.predict(x_test)"
   ]
  },
  {
   "cell_type": "code",
   "execution_count": 34,
   "metadata": {},
   "outputs": [
    {
     "name": "stdout",
     "output_type": "stream",
     "text": [
      "[1 0 2 1 1 0 1 2 1 1 2 0 0 0 0]\n",
      "[1 0 2 1 1 0 1 2 1 1 2 0 0 0 0]\n",
      "[ True  True  True  True  True  True  True  True  True  True  True  True\n",
      "  True  True  True]\n"
     ]
    }
   ],
   "source": [
    "print(y_pred)\n",
    "print(y_test)\n",
    "print(y_pred == y_test)"
   ]
  },
  {
   "cell_type": "code",
   "execution_count": 6,
   "metadata": {},
   "outputs": [
    {
     "name": "stdout",
     "output_type": "stream",
     "text": [
      "0.9703703703703703\n",
      "1.0\n"
     ]
    }
   ],
   "source": [
    "# score: 准确率\n",
    "print(logicreg.score(x_train, y_train))\n",
    "print(logicreg.score(x_test, y_test))"
   ]
  },
  {
   "cell_type": "markdown",
   "metadata": {},
   "source": [
    "## opencv——LogisticRegression"
   ]
  },
  {
   "cell_type": "code",
   "execution_count": 3,
   "metadata": {},
   "outputs": [],
   "source": [
    "import cv2\n",
    "lr = cv2.ml.LogisticRegression_create()"
   ]
  },
  {
   "cell_type": "code",
   "execution_count": 4,
   "metadata": {},
   "outputs": [],
   "source": [
    "# 制定训练方法\n",
    "# cv2.ml.LogisticRegression_BATCH\n",
    "# cv2.ml.LogisticRegression_MINI_BATCH 使用每个数据点后都更新一次模型\n",
    "lr.setTrainMethod(cv2.ml.LogisticRegression_MINI_BATCH)"
   ]
  },
  {
   "cell_type": "code",
   "execution_count": 5,
   "metadata": {},
   "outputs": [],
   "source": [
    "# 训练100次\n",
    "lr.setIterations(100)"
   ]
  },
  {
   "cell_type": "markdown",
   "metadata": {},
   "source": [
    "### opencv对数据格式要求比较严格，需要转换"
   ]
  },
  {
   "cell_type": "code",
   "execution_count": 6,
   "metadata": {},
   "outputs": [],
   "source": [
    "x_train, x_test, y_train, y_test = model_selection.train_test_split(\n",
    "    iris.data.astype(np.float32), iris.target.astype(np.float32), test_size=0.1, random_state=42\n",
    ")"
   ]
  },
  {
   "cell_type": "code",
   "execution_count": 7,
   "metadata": {},
   "outputs": [
    {
     "data": {
      "text/plain": [
       "True"
      ]
     },
     "execution_count": 7,
     "metadata": {},
     "output_type": "execute_result"
    }
   ],
   "source": [
    "lr.train(x_train, cv2.ml.ROW_SAMPLE, y_train)"
   ]
  },
  {
   "cell_type": "code",
   "execution_count": 8,
   "metadata": {},
   "outputs": [
    {
     "data": {
      "text/plain": [
       "array([[ 0.02863388, -0.00950859,  0.12827702, -0.29083425, -0.12750874],\n",
       "       [-0.03015282, -0.07588016, -0.10545424,  0.03446789,  0.00380539],\n",
       "       [-0.07290097, -0.11728643, -0.1474613 ,  0.16710688,  0.10097289]],\n",
       "      dtype=float32)"
      ]
     },
     "execution_count": 8,
     "metadata": {},
     "output_type": "execute_result"
    }
   ],
   "source": [
    "# 检索权重\n",
    "lr.get_learnt_thetas()"
   ]
  },
  {
   "cell_type": "code",
   "execution_count": 9,
   "metadata": {},
   "outputs": [],
   "source": [
    "# 测试\n",
    "ret, y_pred = lr.predict(x_test)"
   ]
  },
  {
   "cell_type": "code",
   "execution_count": 10,
   "metadata": {},
   "outputs": [
    {
     "data": {
      "text/plain": [
       "0.6"
      ]
     },
     "execution_count": 10,
     "metadata": {},
     "output_type": "execute_result"
    }
   ],
   "source": [
    "metrics.accuracy_score(y_test, y_pred)"
   ]
  },
  {
   "cell_type": "code",
   "execution_count": null,
   "metadata": {},
   "outputs": [],
   "source": []
  },
  {
   "cell_type": "code",
   "execution_count": 8,
   "metadata": {},
   "outputs": [
    {
     "data": {
      "image/png": "[encoded data removed]",
      "text/plain": [
       "<Figure size 432x288 with 1 Axes>"
      ]
     },
     "metadata": {
      "needs_background": "light"
     },
     "output_type": "display_data"
    },
    {
     "data": {
      "image/png": "[encoded data removed]",
      "text/plain": [
       "<Figure size 1152x576 with 6 Axes>"
      ]
     },
     "metadata": {
      "needs_background": "light"
     },
     "output_type": "display_data"
    }
   ],
   "source": [
    "kinds = np.unique(iris.target)\n",
    "color = [\"r\", \"g\", \"b\"]\n",
    "\n",
    "\n",
    "# 单图\n",
    "for i in range(3):\n",
    "    data_i = iris.data[iris.target==i].astype(np.float32)\n",
    "    target_i = iris.target[iris.target==i].astype(np.float32)\n",
    "    plt.scatter(data_i[:, 0], data_i[:, 1], c=color[i])\n",
    "plt.show()\n",
    "\n",
    "\n",
    "# 子图，显示两两参数\n",
    "fig,axes = plt.subplots(2,3,figsize=(16,8))\n",
    "\n",
    "ax1 = axes[0, 0]\n",
    "for i in range(3):\n",
    "    data_i = iris.data[iris.target==i].astype(np.float32)\n",
    "    target_i = iris.target[iris.target==i].astype(np.float32)\n",
    "    ax1.scatter(data_i[:, 0], data_i[:, 1], c=color[i])\n",
    "\n",
    "ax2 = axes[1, 0]\n",
    "for i in range(3):\n",
    "    data_i = iris.data[iris.target==i].astype(np.float32)\n",
    "    target_i = iris.target[iris.target==i].astype(np.float32)\n",
    "    ax2.scatter(data_i[:, 2], data_i[:, 3], c=color[i])\n",
    "\n",
    "ax3 = axes[0, 1]\n",
    "for i in range(3):\n",
    "    data_i = iris.data[iris.target==i].astype(np.float32)\n",
    "    target_i = iris.target[iris.target==i].astype(np.float32)\n",
    "    ax3.scatter(data_i[:, 0], data_i[:, 2], c=color[i])\n",
    "\n",
    "ax4 = axes[1, 1]\n",
    "for i in range(3):\n",
    "    data_i = iris.data[iris.target==i].astype(np.float32)\n",
    "    target_i = iris.target[iris.target==i].astype(np.float32)\n",
    "    ax4.scatter(data_i[:, 0], data_i[:, 3], c=color[i])\n",
    "\n",
    "ax5 = axes[0, 2]\n",
    "for i in range(3):\n",
    "    data_i = iris.data[iris.target==i].astype(np.float32)\n",
    "    target_i = iris.target[iris.target==i].astype(np.float32)\n",
    "    ax5.scatter(data_i[:, 1], data_i[:, 2], c=color[i])\n",
    "\n",
    "ax6 = axes[1, 2]\n",
    "for i in range(3):\n",
    "    data_i = iris.data[iris.target==i].astype(np.float32)\n",
    "    target_i = iris.target[iris.target==i].astype(np.float32)\n",
    "    ax6.scatter(data_i[:, 1], data_i[:, 3], c=color[i])\n",
    "\n",
    "plt.show()"
   ]
  },
  {
   "cell_type": "code",
   "execution_count": null,
   "metadata": {},
   "outputs": [],
   "source": []
  },
  {
   "cell_type": "code",
   "execution_count": null,
   "metadata": {},
   "outputs": [],
   "source": []
  }
 ],
 "metadata": {
  "kernelspec": {
   "display_name": "Python 3",
   "language": "python",
   "name": "python3"
  },
  "language_info": {
   "codemirror_mode": {
    "name": "ipython",
    "version": 3
   },
   "file_extension": ".py",
   "mimetype": "text/x-python",
   "name": "python",
   "nbconvert_exporter": "python",
   "pygments_lexer": "ipython3",
   "version": "3.6.7"
  }
 },
 "nbformat": 4,
 "nbformat_minor": 2
}
