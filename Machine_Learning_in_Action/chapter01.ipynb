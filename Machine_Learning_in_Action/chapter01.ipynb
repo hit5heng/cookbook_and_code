{
 "cells": [
  {
   "cell_type": "markdown",
   "metadata": {},
   "source": [
    "## 监督学习的用途\n",
    "- k-临近算法： 线性回归\n",
    "- 朴素贝叶斯算法： 局部加权线性回归\n",
    "- 支持向量机： Ridge回归\n",
    "- 决策树： Lasso最小回归系数估计\n",
    "\n",
    "## 无监督学习的用途\n",
    "- K-均值： 最大期望算法\n",
    "- DBSCAN： PARZEN窗设计"
   ]
  },
  {
   "cell_type": "code",
   "execution_count": null,
   "metadata": {},
   "outputs": [],
   "source": []
  }
 ],
 "metadata": {
  "kernelspec": {
   "display_name": "Python 3",
   "language": "python",
   "name": "python3"
  },
  "language_info": {
   "codemirror_mode": {
    "name": "ipython",
    "version": 3
   },
   "file_extension": ".py",
   "mimetype": "text/x-python",
   "name": "python",
   "nbconvert_exporter": "python",
   "pygments_lexer": "ipython3",
   "version": "3.6.7"
  }
 },
 "nbformat": 4,
 "nbformat_minor": 2
}
