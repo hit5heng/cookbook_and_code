{
 "cells": [
  {
   "cell_type": "markdown",
   "metadata": {},
   "source": [
    "面试10题：\n",
    "\n",
    "题目：大家都知道斐波那契数列，现在要求输入一个整数n，请你输出斐波那契数列的第n项。n<=39\n",
    "\n",
    " n=0时，f(n)=0 n=1时，f(n)=1 n>1时，f(n)=f(n-1)+f(n-2)\n",
    "\n",
    "解题代码一：基于循环（推荐"
   ]
  },
  {
   "cell_type": "code",
   "execution_count": 1,
   "metadata": {},
   "outputs": [],
   "source": [
    "class Solution:\n",
    "    def fibonacci(self, n):\n",
    "        # write code here\n",
    "        small=0\n",
    "        big=1\n",
    "        if n<=0:\n",
    "            return 0\n",
    "        if n==1:\n",
    "            return 1\n",
    "        for i in range(2,n+1):\n",
    "            sum_i=small+big\n",
    "            small=big\n",
    "            big=sum_i\n",
    "        return big"
   ]
  },
  {
   "cell_type": "markdown",
   "metadata": {},
   "source": [
    "基于递归（不太推荐，效率低"
   ]
  },
  {
   "cell_type": "code",
   "execution_count": 2,
   "metadata": {},
   "outputs": [],
   "source": [
    "class Solution:\n",
    "    def Fibonacci(self, n):\n",
    "        # write code here\n",
    "        if n<=0:\n",
    "            return 0\n",
    "        elif n==1:\n",
    "            return 1\n",
    "        return self.Fibonacci(n-1)+self.Fibonacci(n-2)"
   ]
  },
  {
   "cell_type": "code",
   "execution_count": null,
   "metadata": {},
   "outputs": [],
   "source": []
  }
 ],
 "metadata": {
  "kernelspec": {
   "display_name": "Python [conda env:.conda-py3] *",
   "language": "python",
   "name": "conda-env-.conda-py3-py"
  },
  "language_info": {
   "codemirror_mode": {
    "name": "ipython",
    "version": 3
   },
   "file_extension": ".py",
   "mimetype": "text/x-python",
   "name": "python",
   "nbconvert_exporter": "python",
   "pygments_lexer": "ipython3",
   "version": "3.7.3"
  }
 },
 "nbformat": 4,
 "nbformat_minor": 2
}
