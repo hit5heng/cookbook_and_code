{
 "cells": [
  {
   "cell_type": "markdown",
   "metadata": {},
   "source": [
    "面试5题：\n",
    "\n",
    "题目：请实现一个函数，将一个字符串中的空格替换成“%20”。例如，当字符串为We Are Happy.则经过替换之后的字符串为We%20Are%20Happy。"
   ]
  },
  {
   "cell_type": "code",
   "execution_count": 22,
   "metadata": {},
   "outputs": [],
   "source": [
    "class Solution:\n",
    "    @staticmethod\n",
    "    def replaceSpace(target_str):\n",
    "        return \"%20\".join(target_str.split(' '))\n",
    "    \n",
    "    @staticmethod\n",
    "    def replaceSpace02(target_str):\n",
    "        return target_str.replace(\" \", \"%20\")\n",
    "    \n",
    "    # 方法三：\n",
    "    # 剑指offer解法：①先计算源字符串数组长度，并统计空格数量\n",
    "    # ②新字符串数组长度=源数组长度+2*空格数量\n",
    "    # ③在新字符串数组上，从后向前遍历，通过两个index移动并复制。\n",
    "    def replaceSpace03(self, s):\n",
    "        #计算空格数量\n",
    "        s=list(s)\n",
    "        count=0\n",
    "        for e in s:\n",
    "            if e == ' ':\n",
    "                count+=1\n",
    "        p1=len(s)-1 # p1为原始字符串数组末尾的index\n",
    "        #求新数组长度\n",
    "        s+=[None]*(count*2)\n",
    "        p2=len(s)-1 # p2为新字符串数组末尾的index\n",
    "        while p1>=0:\n",
    "            if s[p1]==' ':\n",
    "                for i in ['0','2','%']:\n",
    "                    s[p2]=i\n",
    "                    p2-=1\n",
    "            else:\n",
    "                s[p2]=s[p1]\n",
    "                p2-=1\n",
    "            p1-=1\n",
    "        return ''.join(s)\n",
    "    "
   ]
  },
  {
   "cell_type": "code",
   "execution_count": 23,
   "metadata": {},
   "outputs": [
    {
     "data": {
      "text/plain": [
       "'hello%20world,%20HIT.'"
      ]
     },
     "execution_count": 23,
     "metadata": {},
     "output_type": "execute_result"
    }
   ],
   "source": [
    "str01 = \"hello world, HIT.\"\n",
    "\n",
    "Solution.replaceSpace(str01)"
   ]
  },
  {
   "cell_type": "code",
   "execution_count": 24,
   "metadata": {},
   "outputs": [
    {
     "data": {
      "text/plain": [
       "'hello%20world,%20HIT.'"
      ]
     },
     "execution_count": 24,
     "metadata": {},
     "output_type": "execute_result"
    }
   ],
   "source": [
    "Solution.replaceSpace02(str01)"
   ]
  },
  {
   "cell_type": "code",
   "execution_count": null,
   "metadata": {},
   "outputs": [],
   "source": []
  }
 ],
 "metadata": {
  "kernelspec": {
   "display_name": "Python [conda env:.conda-py3] *",
   "language": "python",
   "name": "conda-env-.conda-py3-py"
  },
  "language_info": {
   "codemirror_mode": {
    "name": "ipython",
    "version": 3
   },
   "file_extension": ".py",
   "mimetype": "text/x-python",
   "name": "python",
   "nbconvert_exporter": "python",
   "pygments_lexer": "ipython3",
   "version": "3.7.3"
  }
 },
 "nbformat": 4,
 "nbformat_minor": 2
}
