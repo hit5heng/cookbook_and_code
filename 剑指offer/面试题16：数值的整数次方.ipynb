{
 "cells": [
  {
   "cell_type": "markdown",
   "metadata": {},
   "source": [
    "面试16题：\n",
    "\n",
    "题目：数值的整数次方\n",
    "\n",
    "题：实现函数double Power(double base, int exponent)，求base的exponent次方、不得使用库函数，同时不需要考虑大数问题。\n",
    "\n",
    " \n",
    "\n",
    "解题思路：主题考虑底数为0.0，指数为负数的情况，此时可以利用全局变量指出g_InvalidInput为True,同时返回0.0"
   ]
  },
  {
   "cell_type": "code",
   "execution_count": 6,
   "metadata": {},
   "outputs": [],
   "source": [
    "class Solution:\n",
    "    \n",
    "    g_InvalidInput = False\n",
    "    \n",
    "    def doublePower(self, base, exponent):\n",
    "        if base == 0.0 and exponent < 0:\n",
    "            g_InvalidInput = True\n",
    "            return 0.0\n",
    "        \n",
    "        if exponent >= 0:\n",
    "            return self.pwerWithUnsignedExponent(base, exponent)\n",
    "        else:\n",
    "            return 1.0 / self.pwerWithUnsignedExponent(base, -exponent)\n",
    "        \n",
    "    def pwerWithUnsignedExponent(self, base, exponent):\n",
    "        result = 1.0\n",
    "        for i in range(exponent):\n",
    "            result *= base\n",
    "        return result"
   ]
  },
  {
   "cell_type": "code",
   "execution_count": 7,
   "metadata": {},
   "outputs": [
    {
     "data": {
      "text/plain": [
       "8.0"
      ]
     },
     "execution_count": 7,
     "metadata": {},
     "output_type": "execute_result"
    }
   ],
   "source": [
    "s = Solution()\n",
    "s.doublePower(2,3)"
   ]
  },
  {
   "cell_type": "code",
   "execution_count": null,
   "metadata": {},
   "outputs": [],
   "source": []
  }
 ],
 "metadata": {
  "kernelspec": {
   "display_name": "Python [conda env:.conda-py3] *",
   "language": "python",
   "name": "conda-env-.conda-py3-py"
  },
  "language_info": {
   "codemirror_mode": {
    "name": "ipython",
    "version": 3
   },
   "file_extension": ".py",
   "mimetype": "text/x-python",
   "name": "python",
   "nbconvert_exporter": "python",
   "pygments_lexer": "ipython3",
   "version": "3.7.3"
  }
 },
 "nbformat": 4,
 "nbformat_minor": 2
}
