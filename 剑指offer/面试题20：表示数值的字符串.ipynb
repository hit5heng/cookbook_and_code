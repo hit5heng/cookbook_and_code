{
 "cells": [
  {
   "cell_type": "markdown",
   "metadata": {},
   "source": [
    "题目：表示数值的字符串\n",
    "\n",
    "题：请实现一个函数用来判断字符串是否表示数值（包括整数和小数）。例如，字符串\"+100\",\"5e2\",\"-123\",\"3.1416\"和\"-1E-16\"都表示数值。 但是\"12e\",\"1a3.14\",\"1.2.3\",\"+-5\"和\"12e+4.3\"都不是。\n",
    "\n",
    "解题思路一：利用Python中的float强转，如果可以那么它是一个合法的数值的字符串，否则不是。"
   ]
  },
  {
   "cell_type": "code",
   "execution_count": 1,
   "metadata": {},
   "outputs": [],
   "source": [
    "class Solution:\n",
    "    def isNumeric(self, c):\n",
    "        # write code here\n",
    "        try:\n",
    "            return float(s)\n",
    "        except:\n",
    "            return 0"
   ]
  },
  {
   "cell_type": "code",
   "execution_count": 6,
   "metadata": {},
   "outputs": [
    {
     "name": "stdout",
     "output_type": "stream",
     "text": [
      "0\n"
     ]
    }
   ],
   "source": [
    "num = Solution().isNumeric(\"+100\")\n",
    "print(num)"
   ]
  },
  {
   "cell_type": "markdown",
   "metadata": {},
   "source": [
    "解题思路二：考虑是否有e存在，如果有，e后面必须有数字，且必须是整数（正整数o或负整数），如果没有e存在，则判断它是不是普通的数字。详见下面代码。"
   ]
  },
  {
   "cell_type": "code",
   "execution_count": null,
   "metadata": {},
   "outputs": [],
   "source": [
    "class Solution:\n",
    "    # s字符串\n",
    "    def isNumeric(self, s):\n",
    "        # write code here\n",
    "        if not s or len(s)<=0:\n",
    "            return False\n",
    "        alist=[i.lower() for i in s]\n",
    "        if 'e' in alist:\n",
    "            index=alist.index('e')\n",
    "            front=alist[:index]\n",
    "            behind=alist[index+1:]\n",
    "            if '.' in behind or len(behind)==0:\n",
    "                return False\n",
    "            isfront=self.isDigit(front)\n",
    "            isbehind=self.isDigit(behind)\n",
    "            return isfront and isbehind\n",
    "        else:\n",
    "            return self.isDigit(alist)\n",
    "        \n",
    "    def isDigit(self,alist):\n",
    "        dotNum=0\n",
    "        allow_num = ['0', '1', '2', '3', '4', '5',\n",
    "                     '6', '7', '8', '9', '+', '-', '.']\n",
    "        for i in range(len(alist)):\n",
    "            if alist[i] not in allow_num:\n",
    "                return False\n",
    "            if alist[i]=='.':\n",
    "                dotNum += 1\n",
    "            if alist[i] in '+-' and i!=0:\n",
    "                return False\n",
    "        if dotNum>1:\n",
    "            return False\n",
    "        return True"
   ]
  }
 ],
 "metadata": {
  "kernelspec": {
   "display_name": "Python [conda env:.conda-py3] *",
   "language": "python",
   "name": "conda-env-.conda-py3-py"
  },
  "language_info": {
   "codemirror_mode": {
    "name": "ipython",
    "version": 3
   },
   "file_extension": ".py",
   "mimetype": "text/x-python",
   "name": "python",
   "nbconvert_exporter": "python",
   "pygments_lexer": "ipython3",
   "version": "3.7.3"
  }
 },
 "nbformat": 4,
 "nbformat_minor": 2
}
