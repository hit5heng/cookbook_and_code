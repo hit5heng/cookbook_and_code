{
 "cells": [
  {
   "cell_type": "markdown",
   "metadata": {},
   "source": [
    "面试6题：\n",
    "\n",
    "题目：从尾到头打印链表\n",
    "\n",
    "输入一个链表，从尾到头打印链表每个节点的值。"
   ]
  },
  {
   "cell_type": "code",
   "execution_count": 2,
   "metadata": {},
   "outputs": [],
   "source": [
    "# 链表\n",
    "# class ListNode:\n",
    "#     def __init__(self, x):\n",
    "#         self.val = x\n",
    "#         self.next = None\n",
    "\n",
    "class Solution:\n",
    "    def printListFromTailToHead(self, listNode):\n",
    "        if not listNode:\n",
    "            return []\n",
    "        # 存放链表的值\n",
    "        res = []\n",
    "        while listNode.next is not None:\n",
    "            res.append(listNode.val)\n",
    "            listNode = listNode.next\n",
    "        # 加入链表队后一个点的值\n",
    "        res.append(listNode.val)\n",
    "        return res[::-1]"
   ]
  },
  {
   "cell_type": "code",
   "execution_count": null,
   "metadata": {},
   "outputs": [],
   "source": []
  }
 ],
 "metadata": {
  "kernelspec": {
   "display_name": "Python [conda env:.conda-py3] *",
   "language": "python",
   "name": "conda-env-.conda-py3-py"
  },
  "language_info": {
   "codemirror_mode": {
    "name": "ipython",
    "version": 3
   },
   "file_extension": ".py",
   "mimetype": "text/x-python",
   "name": "python",
   "nbconvert_exporter": "python",
   "pygments_lexer": "ipython3",
   "version": "3.7.3"
  }
 },
 "nbformat": 4,
 "nbformat_minor": 2
}
