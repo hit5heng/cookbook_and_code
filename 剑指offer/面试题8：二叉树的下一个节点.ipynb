{
 "cells": [
  {
   "cell_type": "markdown",
   "metadata": {},
   "source": [
    "面试8题：\n",
    "\n",
    "题目：二叉树的下一个节点\n",
    "\n",
    "题目描述：给定一个二叉树和其中的一个结点，请找出中序遍历顺序的下一个结点并且返回。注意，树中的结点不仅包含左右子结点，同时包含指向父结点的指针。\n",
    "\n",
    "解题思路：详见剑指offer P65页\n",
    "\n"
   ]
  },
  {
   "cell_type": "code",
   "execution_count": 1,
   "metadata": {},
   "outputs": [],
   "source": [
    "class TreeNode:\n",
    "    def __init__(self, val=None, left=None, right=None, next = None):\n",
    "        self.val = val\n",
    "        self.left = left\n",
    "        self.right = right\n",
    "        \n",
    "        sefl.next = None  # 父节点\n",
    "        \n",
    "    def __str__(self):\n",
    "        return \"root:{}, left:{}, right:{}\"\\\n",
    "    .format(self.data, self.left, self.right)"
   ]
  },
  {
   "cell_type": "code",
   "execution_count": 3,
   "metadata": {},
   "outputs": [],
   "source": [
    "class Solution:\n",
    "    \n",
    "    def getNext(self, pNode):\n",
    "        if not pNode:\n",
    "            return\n",
    "        \n",
    "        # 如果该节点有右子树，那么下一个节点就是它右子树中的最左节点\n",
    "        elif pNode.right != None:\n",
    "            pNode = pNode.right\n",
    "            while pNode.left != None:\n",
    "                pNode = pNode.left\n",
    "            return pNode\n",
    "        \n",
    "        # 如果一个节点没有右子树，，并且它还是它父节点的右子节点\n",
    "        # 那么下一个节点就是它父节点的父节点\n",
    "        elif pNode.next != None and pNode.next.right == pNode:\n",
    "            while pNode.next != None and pNode.next.left != pNode:\n",
    "                pNode = pNode.next\n",
    "            return pNode.next\n",
    "        \n",
    "        #如果一个节点是它父节点的左子节点，那么直接返回它的父节点\n",
    "        else:\n",
    "            return pNode.next\n",
    "            "
   ]
  },
  {
   "cell_type": "code",
   "execution_count": null,
   "metadata": {},
   "outputs": [],
   "source": []
  }
 ],
 "metadata": {
  "kernelspec": {
   "display_name": "Python [conda env:.conda-py3] *",
   "language": "python",
   "name": "conda-env-.conda-py3-py"
  },
  "language_info": {
   "codemirror_mode": {
    "name": "ipython",
    "version": 3
   },
   "file_extension": ".py",
   "mimetype": "text/x-python",
   "name": "python",
   "nbconvert_exporter": "python",
   "pygments_lexer": "ipython3",
   "version": "3.7.3"
  }
 },
 "nbformat": 4,
 "nbformat_minor": 2
}
