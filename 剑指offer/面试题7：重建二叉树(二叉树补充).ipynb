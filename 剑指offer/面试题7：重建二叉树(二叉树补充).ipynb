{
 "cells": [
  {
   "cell_type": "markdown",
   "metadata": {},
   "source": [
    "面试7题：\n",
    "\n",
    "题目：输入某二叉树的前序遍历和中序遍历的结果，请重建出该二叉树。假设输入的前序遍历和中序遍历的结果中都不含重复的数字。例如输入前序遍历序列{1,2,4,7,3,5,6,8}和中序遍历序列{4,7,2,1,5,3,8,6}，则重建二叉树并返回。\n",
    "\n",
    "解题思路：递归实现"
   ]
  },
  {
   "cell_type": "code",
   "execution_count": 1,
   "metadata": {},
   "outputs": [],
   "source": [
    "class TreeNode:\n",
    "    def __init__(self, val=None, left=None, right=None):\n",
    "        self.val = val\n",
    "        self.left = left\n",
    "        self.right = right\n",
    "        \n",
    "    def __str__(self):\n",
    "        return \"val:{}, left:{}, right:{}\".format(self.val, self.left, self.right)"
   ]
  },
  {
   "cell_type": "code",
   "execution_count": 2,
   "metadata": {},
   "outputs": [],
   "source": [
    "class Solution:\n",
    "    \n",
    "    def reConstructBinaryTree(self, pre, tin):\n",
    "        if not pre or not tin:\n",
    "            return None\n",
    "        \n",
    "        root = TreeNode(pre[0])\n",
    "        val = tin.index(pre[0])\n",
    "    \n",
    "        root.left = self.reConstructBinaryTree(pre[1:val+1], tin[:val])\n",
    "        root.right = self.reConstructBinaryTree(pre[val+1:], tin[val+1:])\n",
    "        \n",
    "        return root"
   ]
  },
  {
   "cell_type": "code",
   "execution_count": 3,
   "metadata": {},
   "outputs": [
    {
     "name": "stdout",
     "output_type": "stream",
     "text": [
      "val:1, left:val:2, left:val:4, left:None, right:val:7, left:None, right:None, right:None, right:val:3, left:val:5, left:None, right:None, right:val:6, left:val:8, left:None, right:None, right:None\n"
     ]
    }
   ],
   "source": [
    "pre = [1,2,4,7,3,5,6,8]\n",
    "tin = [4,7,2,1,5,3,8,6]\n",
    "\n",
    "s = Solution()\n",
    "res = s.reConstructBinaryTree(pre, tin)\n",
    "print(res)"
   ]
  },
  {
   "cell_type": "code",
   "execution_count": null,
   "metadata": {},
   "outputs": [],
   "source": []
  },
  {
   "cell_type": "markdown",
   "metadata": {},
   "source": [
    "补充"
   ]
  },
  {
   "cell_type": "code",
   "execution_count": 28,
   "metadata": {},
   "outputs": [
    {
     "name": "stdout",
     "output_type": "stream",
     "text": [
      "pre order .....\n",
      "A B C D F G E I H \n",
      "in order .....\n",
      "B A F D G C I E H \n",
      "post order .....\n",
      "B F G D I H E C A \n",
      "level order .....\n",
      "A B C D E F G I H \n"
     ]
    }
   ],
   "source": [
    "# 　二叉树的节点类\n",
    "class TreeNode:\n",
    "    def __init__(self, data=None, left=None, right=None):\n",
    "        self.data = data\n",
    "        self.left = left\n",
    "        self.right = right\n",
    "\n",
    "# 二叉树类,进行遍历操作\n",
    "class Bitree:\n",
    "    def __init__(self, root=None):\n",
    "        self.root = root\n",
    "\n",
    "    def is_empty(self):\n",
    "        if self.root is None:\n",
    "            return True\n",
    "        else:\n",
    "            return False\n",
    "\n",
    "    # 先序遍历\n",
    "    def preOrder(self, node):\n",
    "        if node is None:\n",
    "            return\n",
    "        print(node.data, end=' ')\n",
    "        self.preOrder(node.left)\n",
    "        self.preOrder(node.right)\n",
    "\n",
    "    # 　中序遍历\n",
    "    def inOrder(self, node):\n",
    "        if node is None:\n",
    "            return\n",
    "        self.inOrder(node.left)\n",
    "        print(node.data, end=' ')\n",
    "        self.inOrder(node.right)\n",
    "\n",
    "    # 　后序遍历\n",
    "    def postOrder(self, node):\n",
    "        if node is None:\n",
    "            return\n",
    "        self.postOrder(node.left)\n",
    "        self.postOrder(node.right)\n",
    "        print(node.data, end=' ')\n",
    "\n",
    "    # 　层次遍历\n",
    "    def levelOrder(self, node):\n",
    "        qu = SQueue()\n",
    "        qu.enqueue(node)  # 先将根结点入队\n",
    "        while not qu.is_empty():\n",
    "            node = qu.dequeue()  # 出队时打印\n",
    "            print(node.data, end=' ')\n",
    "            if node.left:\n",
    "                qu.enqueue(node.left)\n",
    "            if node.right:\n",
    "                qu.enqueue(node.right)\n",
    "\n",
    "                \n",
    "                \n",
    "                \n",
    "# 　队列异常\n",
    "class QueueError(Exception):\n",
    "    pass\n",
    "\n",
    "\n",
    "# 完成队列操作\n",
    "class SQueue:\n",
    "    def __init__(self):\n",
    "        self._elems = []  # 使用列表存储队列数据\n",
    "\n",
    "    def is_empty(self):\n",
    "        return self._elems == []\n",
    "\n",
    "    # 　入队\n",
    "    def enqueue(self, elem):\n",
    "        self._elems.append(elem)\n",
    "\n",
    "    # 出队\n",
    "    def dequeue(self):\n",
    "        if not self._elems:\n",
    "            raise QueueError(\"Queue is empty\")\n",
    "        return self._elems.pop(0)\n",
    "    \n",
    "    \n",
    "    \n",
    "\n",
    "if __name__ == \"__main__\":\n",
    "    #   按照后序遍历增加结点\n",
    "    b = TreeNode('B')\n",
    "    f = TreeNode('F')\n",
    "    g = TreeNode('G')\n",
    "    d = TreeNode('D', f, g)\n",
    "    i = TreeNode('I')\n",
    "    h = TreeNode('H')\n",
    "    e = TreeNode('E', i, h)\n",
    "    c = TreeNode('C', d, e)\n",
    "    a = TreeNode('A', b, c)  # 根节点\n",
    "\n",
    "    bt = Bitree(a)  # 初始化树对象，传入根结点\n",
    "\n",
    "    print(\"pre order .....\")\n",
    "    bt.preOrder(bt.root)\n",
    "    print()\n",
    "    print(\"in order .....\")\n",
    "    bt.inOrder(bt.root)\n",
    "    print()\n",
    "    print(\"post order .....\")\n",
    "    bt.postOrder(bt.root)\n",
    "    print()\n",
    "    print(\"level order .....\")\n",
    "    bt.levelOrder(bt.root)\n",
    "    print()"
   ]
  },
  {
   "cell_type": "code",
   "execution_count": null,
   "metadata": {},
   "outputs": [],
   "source": []
  },
  {
   "cell_type": "code",
   "execution_count": null,
   "metadata": {},
   "outputs": [],
   "source": []
  }
 ],
 "metadata": {
  "kernelspec": {
   "display_name": "Python [conda env:.conda-py3] *",
   "language": "python",
   "name": "conda-env-.conda-py3-py"
  },
  "language_info": {
   "codemirror_mode": {
    "name": "ipython",
    "version": 3
   },
   "file_extension": ".py",
   "mimetype": "text/x-python",
   "name": "python",
   "nbconvert_exporter": "python",
   "pygments_lexer": "ipython3",
   "version": "3.7.3"
  }
 },
 "nbformat": 4,
 "nbformat_minor": 2
}
