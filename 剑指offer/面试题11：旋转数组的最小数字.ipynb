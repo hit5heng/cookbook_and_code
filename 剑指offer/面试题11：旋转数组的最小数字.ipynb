{
 "cells": [
  {
   "cell_type": "markdown",
   "metadata": {},
   "source": [
    "面试11题：\n",
    "\n",
    "题目：\n",
    "\n",
    "把一个数组最开始的若干个元素搬到数组的末尾，我们称之为数组的旋转。 输入一个非递减排序的数组的一个旋转，输出旋转数组的最小元素。 例如数组{3,4,5,1,2}为{1,2,3,4,5}的一个旋转，该数组的最小值为1。 NOTE：给出的所有元素都大于0，若数组大小为0，请返回0\n",
    "\n",
    "解题思路：二分查找，以及分情况考虑（稍显麻烦）详见：剑指offer P83"
   ]
  },
  {
   "cell_type": "code",
   "execution_count": 1,
   "metadata": {},
   "outputs": [],
   "source": [
    "class Solution:\n",
    "    def minValue(self,rotateArray,index1,index2):\n",
    "        res=rotateArray[index1]\n",
    "        for i in range(index1+1,index2+1):\n",
    "            if res>rotateArray[i]:\n",
    "                res=rotateArray[i]\n",
    "        return res\n",
    "    \n",
    "    def minNumberInRotateArray(self, rotateArray):\n",
    "        if not rotateArray:\n",
    "            return\n",
    "        if len(rotateArray) == 0:\n",
    "            return 0\n",
    "        \n",
    "        index1 = 0\n",
    "        index2 = len(rotateArray) - 1\n",
    "        indexMid = index1\n",
    "        while rotateArray[index1] >= rotateArray[index2]:\n",
    "            if (index2 - index1) == 1:\n",
    "                indexMid = index2\n",
    "                break\n",
    "            indexMid = (index1 + index2) // 2\n",
    "            \n",
    "            if rotateArray[index1]==rotateArray[index2] \\\n",
    "            and rotateArray[indexMid]==rotateArray[index1]:\n",
    "                return self.minValue(rotateArray, index1, index2)\n",
    "            \n",
    "            if rotateArray[indexMid]>=rotateArray[index1]:\n",
    "                index1=indexMid\n",
    "            if rotateArray[indexMid]<=rotateArray[index2]:\n",
    "                index2=indexMid\n",
    "            \n",
    "            return rotateArray[indexMid]"
   ]
  },
  {
   "cell_type": "code",
   "execution_count": null,
   "metadata": {},
   "outputs": [],
   "source": []
  }
 ],
 "metadata": {
  "kernelspec": {
   "display_name": "Python [conda env:.conda-py3] *",
   "language": "python",
   "name": "conda-env-.conda-py3-py"
  },
  "language_info": {
   "codemirror_mode": {
    "name": "ipython",
    "version": 3
   },
   "file_extension": ".py",
   "mimetype": "text/x-python",
   "name": "python",
   "nbconvert_exporter": "python",
   "pygments_lexer": "ipython3",
   "version": "3.7.3"
  }
 },
 "nbformat": 4,
 "nbformat_minor": 2
}
